{
 "cells": [
  {
   "cell_type": "code",
   "execution_count": 1,
   "metadata": {},
   "outputs": [
    {
     "name": "stdout",
     "output_type": "stream",
     "text": [
      "prop/MSD50_1_10.0000_3.00_3.00_0.00000_1_1.txt\n",
      "prop/MSD50_1_10.0000_3.00_3.00_0.00000_2_1.txt\n",
      "prop/MSD50_1_10.0000_3.00_3.00_0.00000_3_1.txt\n",
      "prop/MSD50_1_10.0000_3.00_3.00_0.00000_4_1.txt\n",
      "prop/MSD50_1_10.0000_3.00_3.00_0.00000_5_1.txt\n",
      "prop/MSD50_1_10.0000_3.00_3.00_0.50000_1_1.txt\n",
      "prop/MSD50_1_10.0000_3.00_3.00_0.50000_2_1.txt\n",
      "prop/MSD50_1_10.0000_3.00_3.00_0.50000_3_1.txt\n",
      "prop/MSD50_1_10.0000_3.00_3.00_0.50000_4_1.txt\n",
      "prop/MSD50_1_10.0000_3.00_3.00_0.50000_5_1.txt\n",
      "prop/MSD50_1_10.0000_3.00_3.00_1.00000_1_1.txt\n",
      "prop/MSD50_1_10.0000_3.00_3.00_1.00000_2_1.txt\n",
      "prop/MSD50_1_10.0000_3.00_3.00_1.00000_3_1.txt\n",
      "prop/MSD50_1_10.0000_3.00_3.00_1.00000_4_1.txt\n",
      "prop/MSD50_1_10.0000_3.00_3.00_1.00000_5_1.txt\n",
      "prop/MSD50_1_10.0000_3.00_3.00_2.00000_1_1.txt\n",
      "prop/MSD50_1_10.0000_3.00_3.00_2.00000_2_1.txt\n",
      "prop/MSD50_1_10.0000_3.00_3.00_2.00000_3_1.txt\n",
      "prop/MSD50_1_10.0000_3.00_3.00_2.00000_4_1.txt\n",
      "prop/MSD50_1_10.0000_3.00_3.00_2.00000_5_1.txt\n",
      "prop/MSD50_1_10.0000_3.00_3.00_5.00000_1_1.txt\n",
      "prop/MSD50_1_10.0000_3.00_3.00_5.00000_2_1.txt\n",
      "prop/MSD50_1_10.0000_3.00_3.00_5.00000_3_1.txt\n",
      "prop/MSD50_1_10.0000_3.00_3.00_5.00000_4_1.txt\n",
      "prop/MSD50_1_10.0000_3.00_3.00_5.00000_5_1.txt\n"
     ]
    }
   ],
   "source": [
    "import numpy as np\n",
    "import matplotlib.pyplot as plt\n",
    "import csv\n",
    "\n",
    "N = 50\n",
    "Ncharges = 1\n",
    "lambda_d = 10\n",
    "barrier = 3\n",
    "barrier2 = 3\n",
    "edot = np.array([0,0.5,1,2,5])\n",
    "ntr = 5\n",
    "it = np.array([1])\n",
    "dt = 0.0005 \n",
    "printProps = 1000 \n",
    "tmax = 24999.5 #last timestep in MSD file\n",
    "Ntsteps = int(tmax/(dt*printProps))\n",
    "avgMSD = np.array(len(edot)*[np.array(len(it)*np.zeros(Ntsteps))])\n",
    "\n",
    "# xSS = np.array(len(Ncharges)*[np.array(len(edot)*[0.0])])\n",
    "# xSSer = np.array(len(Ncharges)*[np.array(len(edot)*[0.0])])\n",
    "# Wi = np.zeros(len(edot))\n",
    "\n",
    "for e in range(0,len(edot)):\n",
    "    for i in range(0,len(it)):\n",
    "        allMSD = np.array(ntr*[np.array(Ntsteps*[0.0])])\n",
    "        for tr in range(1,ntr+1):\n",
    "\n",
    "\n",
    "            file_name = \"prop/MSD\" + str(N)+ \"_\" + str(Ncharges) + \"_\"+ format(lambda_d,'.4f') + \"_\" + format(barrier,'.2f') + \"_\" + format(barrier2,'.2f')+\"_\"+ format(edot[e],'.5f')+\"_\"+ str(tr)+\"_\" +str(it[i])+\".txt\"\n",
    "            print(file_name)\n",
    "            \n",
    "            \"\"\"\n",
    "            Extracting data\n",
    "            \"\"\"     \n",
    "            my_data = np.loadtxt(file_name,delimiter=',')\n",
    "            allMSD[tr-1] = my_data[:Ntsteps,1] \n",
    "        \n",
    "        MSD = []\n",
    "        STD = []\n",
    "        for k in range(0,Ntsteps):\n",
    "            x = []\n",
    "            for j in range(0,ntr):\n",
    "                x.append(allMSD[j][k])\n",
    "            #print(np.mean(x))\n",
    "            MSD.append(np.mean(x))\n",
    "            STD.append(np.std(x))\n",
    "            \n",
    "        \"\"\"\n",
    "        Output\n",
    "        \"\"\"     \n",
    "        with open('msd/avgMSD_CA_'+str(edot[e])+'_'+str(it[i])+\".csv\",mode='w') as practice_file:\n",
    "            practice = csv.writer(practice_file,delimiter=',')\n",
    "            y = [\"t\",\"MSD\",\"Err\"]\n",
    "            practice.writerow(y)\n",
    "            for i in range(0,Ntsteps):\n",
    "                x = [(i+1)*dt*printProps,MSD[i],STD[i]/np.sqrt(ntr)]\n",
    "                practice.writerow(x)\n",
    "            "
   ]
  },
  {
   "cell_type": "code",
   "execution_count": 3,
   "metadata": {},
   "outputs": [
    {
     "name": "stdout",
     "output_type": "stream",
     "text": [
      "prop/MSD100_25_10.0000_3.00_3.00_0.00000_1_1.txt\n",
      "prop/MSD100_25_10.0000_3.00_3.00_0.00000_2_1.txt\n",
      "prop/MSD100_25_10.0000_3.00_3.00_0.00000_3_1.txt\n",
      "prop/MSD100_25_10.0000_3.00_3.00_0.00000_4_1.txt\n",
      "prop/MSD100_25_10.0000_3.00_3.00_0.00000_5_1.txt\n",
      "prop/MSD100_25_10.0000_3.00_3.00_0.50000_1_1.txt\n",
      "prop/MSD100_25_10.0000_3.00_3.00_0.50000_2_1.txt\n",
      "prop/MSD100_25_10.0000_3.00_3.00_0.50000_3_1.txt\n",
      "prop/MSD100_25_10.0000_3.00_3.00_0.50000_4_1.txt\n",
      "prop/MSD100_25_10.0000_3.00_3.00_0.50000_5_1.txt\n",
      "prop/MSD100_25_10.0000_3.00_3.00_1.00000_1_1.txt\n",
      "prop/MSD100_25_10.0000_3.00_3.00_1.00000_2_1.txt\n",
      "prop/MSD100_25_10.0000_3.00_3.00_1.00000_3_1.txt\n",
      "prop/MSD100_25_10.0000_3.00_3.00_1.00000_4_1.txt\n",
      "prop/MSD100_25_10.0000_3.00_3.00_1.00000_5_1.txt\n",
      "prop/MSD100_25_10.0000_3.00_3.00_2.00000_1_1.txt\n",
      "prop/MSD100_25_10.0000_3.00_3.00_2.00000_2_1.txt\n",
      "prop/MSD100_25_10.0000_3.00_3.00_2.00000_3_1.txt\n",
      "prop/MSD100_25_10.0000_3.00_3.00_2.00000_4_1.txt\n",
      "prop/MSD100_25_10.0000_3.00_3.00_2.00000_5_1.txt\n",
      "prop/MSD100_25_10.0000_3.00_3.00_10.00000_1_1.txt\n",
      "prop/MSD100_25_10.0000_3.00_3.00_10.00000_2_1.txt\n",
      "prop/MSD100_25_10.0000_3.00_3.00_10.00000_3_1.txt\n",
      "prop/MSD100_25_10.0000_3.00_3.00_10.00000_4_1.txt\n",
      "prop/MSD100_25_10.0000_3.00_3.00_10.00000_5_1.txt\n"
     ]
    }
   ],
   "source": []
  },
  {
   "cell_type": "code",
   "execution_count": 81,
   "metadata": {},
   "outputs": [
    {
     "data": {
      "text/plain": [
       "[nan, nan, nan]"
      ]
     },
     "execution_count": 81,
     "metadata": {},
     "output_type": "execute_result"
    }
   ],
   "source": [
    "x"
   ]
  },
  {
   "cell_type": "code",
   "execution_count": 49,
   "metadata": {},
   "outputs": [
    {
     "data": {
      "text/plain": [
       "array([[0., 0., 0., 0., 0., 0.]])"
      ]
     },
     "execution_count": 49,
     "metadata": {},
     "output_type": "execute_result"
    }
   ],
   "source": [
    "np.array(len(conc)*[np.array(len(it)*np.zeros(tmax))])"
   ]
  },
  {
   "cell_type": "code",
   "execution_count": 84,
   "metadata": {},
   "outputs": [
    {
     "data": {
      "text/plain": [
       "[82.051175,\n",
       " 214.6199673333333,\n",
       " 314.55102400000004,\n",
       " 407.4940183333333,\n",
       " 514.257547,\n",
       " nan]"
      ]
     },
     "execution_count": 84,
     "metadata": {},
     "output_type": "execute_result"
    }
   ],
   "source": [
    "MSD"
   ]
  },
  {
   "cell_type": "code",
   "execution_count": 16,
   "metadata": {},
   "outputs": [
    {
     "ename": "AttributeError",
     "evalue": "'list' object has no attribute 'any'",
     "output_type": "error",
     "traceback": [
      "\u001b[0;31m---------------------------------------------------------------------------\u001b[0m",
      "\u001b[0;31mAttributeError\u001b[0m                            Traceback (most recent call last)",
      "\u001b[0;32m<ipython-input-16-34aeb2a81847>\u001b[0m in \u001b[0;36m<module>\u001b[0;34m\u001b[0m\n\u001b[1;32m      3\u001b[0m \u001b[0mL\u001b[0m \u001b[0;34m=\u001b[0m \u001b[0;36m1\u001b[0m\u001b[0;34m\u001b[0m\u001b[0;34m\u001b[0m\u001b[0m\n\u001b[1;32m      4\u001b[0m \u001b[0mn\u001b[0m \u001b[0;34m=\u001b[0m \u001b[0mnp\u001b[0m\u001b[0;34m.\u001b[0m\u001b[0mfloor\u001b[0m\u001b[0;34m(\u001b[0m\u001b[0mnp\u001b[0m\u001b[0;34m.\u001b[0m\u001b[0mabs\u001b[0m\u001b[0;34m(\u001b[0m\u001b[0mpos\u001b[0m\u001b[0;34m)\u001b[0m\u001b[0;34m/\u001b[0m\u001b[0mL\u001b[0m\u001b[0;34m)\u001b[0m\u001b[0;34m\u001b[0m\u001b[0;34m\u001b[0m\u001b[0m\n\u001b[0;32m----> 5\u001b[0;31m \u001b[0;32mif\u001b[0m\u001b[0;34m(\u001b[0m\u001b[0mpos\u001b[0m\u001b[0;34m.\u001b[0m\u001b[0many\u001b[0m\u001b[0;34m(\u001b[0m\u001b[0;34m)\u001b[0m \u001b[0;34m>\u001b[0m \u001b[0mL\u001b[0m\u001b[0;34m/\u001b[0m\u001b[0;36m2\u001b[0m\u001b[0;34m)\u001b[0m\u001b[0;34m:\u001b[0m\u001b[0;34m\u001b[0m\u001b[0;34m\u001b[0m\u001b[0m\n\u001b[0m\u001b[1;32m      6\u001b[0m     \u001b[0mpos\u001b[0m \u001b[0;34m-=\u001b[0m \u001b[0mn\u001b[0m\u001b[0;34m*\u001b[0m\u001b[0mL\u001b[0m\u001b[0;34m\u001b[0m\u001b[0;34m\u001b[0m\u001b[0m\n\u001b[1;32m      7\u001b[0m \u001b[0;32melif\u001b[0m\u001b[0;34m(\u001b[0m\u001b[0mpos\u001b[0m\u001b[0;34m.\u001b[0m\u001b[0many\u001b[0m\u001b[0;34m(\u001b[0m\u001b[0;34m)\u001b[0m \u001b[0;34m<\u001b[0m \u001b[0;34m-\u001b[0m\u001b[0mL\u001b[0m\u001b[0;34m/\u001b[0m\u001b[0;36m2\u001b[0m\u001b[0;34m)\u001b[0m\u001b[0;34m:\u001b[0m\u001b[0;34m\u001b[0m\u001b[0;34m\u001b[0m\u001b[0m\n",
      "\u001b[0;31mAttributeError\u001b[0m: 'list' object has no attribute 'any'"
     ]
    }
   ],
   "source": [
    "import numpy as np\n",
    "pos = [-10.2,-10.2,-5.2]\n",
    "L = 1\n",
    "n = np.floor(np.abs(pos)/L)\n",
    "if(pos.any() > L/2):\n",
    "    pos -= n*L\n",
    "elif(pos.any() < -L/2):\n",
    "    pos += n*L\n",
    "    \n",
    "print(pos)"
   ]
  },
  {
   "cell_type": "code",
   "execution_count": 33,
   "metadata": {},
   "outputs": [
    {
     "name": "stdout",
     "output_type": "stream",
     "text": [
      "[13.  8. 10.]\n",
      "[array([ 1.04842663, 25.49986098, 15.71928724]), 41.14395215, 50.03594826]\n"
     ]
    },
    {
     "ename": "TypeError",
     "evalue": "only size-1 arrays can be converted to Python scalars",
     "output_type": "error",
     "traceback": [
      "\u001b[0;31m---------------------------------------------------------------------------\u001b[0m",
      "\u001b[0;31mTypeError\u001b[0m                                 Traceback (most recent call last)",
      "\u001b[0;32m<ipython-input-33-b20b3bd4e7a3>\u001b[0m in \u001b[0;36m<module>\u001b[0;34m\u001b[0m\n\u001b[1;32m      2\u001b[0m \u001b[0mL\u001b[0m \u001b[0;34m=\u001b[0m \u001b[0;36m4.8902868701633055\u001b[0m\u001b[0;34m\u001b[0m\u001b[0;34m\u001b[0m\u001b[0m\n\u001b[1;32m      3\u001b[0m \u001b[0;32mfor\u001b[0m \u001b[0mi\u001b[0m \u001b[0;32min\u001b[0m \u001b[0mrange\u001b[0m\u001b[0;34m(\u001b[0m\u001b[0;36m0\u001b[0m\u001b[0;34m,\u001b[0m\u001b[0mlen\u001b[0m\u001b[0;34m(\u001b[0m\u001b[0mpos\u001b[0m\u001b[0;34m)\u001b[0m\u001b[0;34m)\u001b[0m\u001b[0;34m:\u001b[0m\u001b[0;34m\u001b[0m\u001b[0;34m\u001b[0m\u001b[0m\n\u001b[0;32m----> 4\u001b[0;31m     \u001b[0mn\u001b[0m \u001b[0;34m=\u001b[0m \u001b[0mnp\u001b[0m\u001b[0;34m.\u001b[0m\u001b[0mfloor\u001b[0m\u001b[0;34m(\u001b[0m\u001b[0mnp\u001b[0m\u001b[0;34m.\u001b[0m\u001b[0mabs\u001b[0m\u001b[0;34m(\u001b[0m\u001b[0mpos\u001b[0m\u001b[0;34m)\u001b[0m\u001b[0;34m/\u001b[0m\u001b[0mL\u001b[0m\u001b[0;34m)\u001b[0m\u001b[0;34m\u001b[0m\u001b[0;34m\u001b[0m\u001b[0m\n\u001b[0m\u001b[1;32m      5\u001b[0m     \u001b[0mprint\u001b[0m\u001b[0;34m(\u001b[0m\u001b[0mn\u001b[0m\u001b[0;34m)\u001b[0m\u001b[0;34m\u001b[0m\u001b[0;34m\u001b[0m\u001b[0m\n\u001b[1;32m      6\u001b[0m     \u001b[0;32mif\u001b[0m\u001b[0;34m(\u001b[0m\u001b[0mpos\u001b[0m\u001b[0;34m[\u001b[0m\u001b[0mi\u001b[0m\u001b[0;34m]\u001b[0m \u001b[0;34m>\u001b[0m \u001b[0mL\u001b[0m\u001b[0;34m/\u001b[0m\u001b[0;36m2\u001b[0m\u001b[0;34m)\u001b[0m\u001b[0;34m:\u001b[0m\u001b[0;34m\u001b[0m\u001b[0;34m\u001b[0m\u001b[0m\n",
      "\u001b[0;31mTypeError\u001b[0m: only size-1 arrays can be converted to Python scalars"
     ]
    }
   ],
   "source": [
    "pos = [64.62215594,  41.14395215,  50.03594826]\n",
    "L = 4.8902868701633055\n",
    "for i in range(0,len(pos)):\n",
    "    n = np.floor(np.abs(pos)/L)\n",
    "    print(n)\n",
    "    if(pos[i] > L/2):\n",
    "        for j in range(0,len(n)):\n",
    "            if(n[j]==0):\n",
    "                n[j] =1\n",
    "            \n",
    "        pos[i] -= n*L\n",
    "    elif(pos[i] < -L/2):\n",
    "        for j in range(0,len(n)):\n",
    "            if(n[j]==0):\n",
    "                n[j] =1\n",
    "            \n",
    "        pos[i] += n*L\n",
    "  \n",
    "    print(pos)"
   ]
  },
  {
   "cell_type": "code",
   "execution_count": 34,
   "metadata": {},
   "outputs": [
    {
     "name": "stdout",
     "output_type": "stream",
     "text": [
      "[64.62215594, array([-22.42977716,   2.02165719,  -7.75891655]), 50.03594826]\n"
     ]
    }
   ],
   "source": [
    "pos = [64.62215594,  41.14395215,  50.03594826]\n",
    "L = 4.8902868701633055\n",
    "\n",
    "\n",
    "n = np.floor(np.abs(pos)/L)\n",
    "    \n",
    "if(pos[i] > L/2):\n",
    "    for j in range(0,len(n)):\n",
    "        if(n[j]==0):\n",
    "            n[j] =1\n",
    "\n",
    "    pos[i] -= n*L\n",
    "elif(pos[i] < -L/2):\n",
    "    for j in range(0,len(n)):\n",
    "        if(n[j]==0):\n",
    "            n[j] =1\n",
    "\n",
    "    pos[i] += n*L\n",
    "  \n",
    "    \n",
    "print(pos)"
   ]
  },
  {
   "cell_type": "code",
   "execution_count": 32,
   "metadata": {},
   "outputs": [
    {
     "ename": "NameError",
     "evalue": "name 'array' is not defined",
     "output_type": "error",
     "traceback": [
      "\u001b[0;31m---------------------------------------------------------------------------\u001b[0m",
      "\u001b[0;31mNameError\u001b[0m                                 Traceback (most recent call last)",
      "\u001b[0;32m<ipython-input-32-15afb6e51c33>\u001b[0m in \u001b[0;36m<module>\u001b[0;34m\u001b[0m\n\u001b[0;32m----> 1\u001b[0;31m \u001b[0;34m{\u001b[0m\u001b[0;34m'L'\u001b[0m\u001b[0;34m:\u001b[0m \u001b[0;36m1\u001b[0m\u001b[0;34m,\u001b[0m \u001b[0;34m'R'\u001b[0m\u001b[0;34m:\u001b[0m \u001b[0marray\u001b[0m\u001b[0;34m(\u001b[0m\u001b[0;34m[\u001b[0m \u001b[0;36m0.6525125\u001b[0m \u001b[0;34m,\u001b[0m  \u001b[0;36m0.75411864\u001b[0m\u001b[0;34m,\u001b[0m  \u001b[0;36m0.40556725\u001b[0m\u001b[0;34m]\u001b[0m\u001b[0;34m)\u001b[0m\u001b[0;34m}\u001b[0m\u001b[0;34m\u001b[0m\u001b[0;34m\u001b[0m\u001b[0m\n\u001b[0m",
      "\u001b[0;31mNameError\u001b[0m: name 'array' is not defined"
     ]
    }
   ],
   "source": [
    "{'L': 1, 'R': array([ 0.6525125 ,  0.75411864,  0.40556725])}"
   ]
  },
  {
   "cell_type": "code",
   "execution_count": null,
   "metadata": {},
   "outputs": [],
   "source": []
  }
 ],
 "metadata": {
  "kernelspec": {
   "display_name": "Python 3 (ipykernel)",
   "language": "python",
   "name": "python3"
  },
  "language_info": {
   "codemirror_mode": {
    "name": "ipython",
    "version": 3
   },
   "file_extension": ".py",
   "mimetype": "text/x-python",
   "name": "python",
   "nbconvert_exporter": "python",
   "pygments_lexer": "ipython3",
   "version": "3.11.5"
  }
 },
 "nbformat": 4,
 "nbformat_minor": 4
}
