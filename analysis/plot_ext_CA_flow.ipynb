{
 "cells": [
  {
   "cell_type": "code",
   "execution_count": 22,
   "metadata": {
    "scrolled": true
   },
   "outputs": [
    {
     "data": {
      "image/png": "[encoded data removed]",
      "text/plain": [
       "<Figure size 432x288 with 1 Axes>"
      ]
     },
     "metadata": {
      "needs_background": "light"
     },
     "output_type": "display_data"
    }
   ],
   "source": [
    "import numpy as np\n",
    "import matplotlib.pyplot as plt\n",
    "#from scipy.optimize import curve_fit\n",
    "\n",
    "\"\"\"\n",
    "User Inputs\n",
    "\"\"\"\n",
    "N = 100\n",
    "Ncharges = np.array([1])\n",
    "lambda_d = 10.0\n",
    "barrier = 3\n",
    "barrier2 = 3\n",
    "edot = np.array([1e-2,2e-2,5e-2,1e-1,2.5e-1,5e-1,1,2,5,10])\n",
    "#edot = np.array([2e-3,2e-2,2e-1,2])\n",
    "it = 1\n",
    "\n",
    "\n",
    "xSS = np.array(len(Ncharges)*[np.array(len(edot)*[0.0])])\n",
    "xSSer = np.array(len(Ncharges)*[np.array(len(edot)*[0.0])])\n",
    "Wi = np.zeros(len(edot))\n",
    "\n",
    "for n in range(0,len(Ncharges)):\n",
    "    extlist = []\n",
    "    strlist = []\n",
    "    timelist = []\n",
    "    for d in edot:\n",
    "\n",
    "            \n",
    "        file_name = \"ens/E\" + str(N)+ \"_\" + str(Ncharges[n])+ \"_\" + format(lambda_d,'.4f') + \"_\" +format(barrier,'.2f') + \"_\" + format(barrier2,'.2f')+\"_\"+ format(d,'.5f') + \"_\" +str(1) + \"_\" +str(it)+\".txt\"\n",
    "\n",
    "\n",
    "        \"\"\"\n",
    "        Extracting data\n",
    "        \"\"\"\n",
    "\n",
    "        my_data = np.loadtxt(file_name,skiprows=1)\n",
    "        time = my_data[:,0]\n",
    "        ext = my_data[:,2]\n",
    "\n",
    "        extlist.append(ext)\n",
    "        #strlist.append(strain)\n",
    "        timelist.append(time)\n",
    "\n",
    "#         plt.plot(time,ext,label = Ncharges[n])\n",
    "#         plt.legend()\n",
    "\n",
    "\n",
    "\n",
    "    for i in range(0,len(edot)):\n",
    "\n",
    "        cutoff = 1e7\n",
    "\n",
    "        icut = np.where(timelist[i] > cutoff)[0][0]\n",
    "\n",
    "        samples = len(time[icut:,])\n",
    "\n",
    "        Nsamp = 2\n",
    "        ###################\n",
    "        cut = samples\n",
    "        lensamp = int(cut/Nsamp)\n",
    "        xSSsamp = np.zeros(Nsamp)\n",
    "        Wi[i] = edot[i]\n",
    "        extt = np.zeros(samples)\n",
    "        for j in range(0,Nsamp):   \n",
    "            #print(extlist[i][j*lensamp:(j+1)*lensamp])\n",
    "            extt = extlist[i][icut:]\n",
    "            xSSsamp[j] = np.mean(extt[j*lensamp:(j+1)*lensamp])\n",
    "\n",
    "        xSS[n][i] = np.mean(xSSsamp)\n",
    "        xSSer[n][i] = np.std(xSSsamp)/np.sqrt(Nsamp)\n",
    "\n",
    "    \n",
    "\"\"\"\n",
    "Plot your data \n",
    "\"\"\"\n",
    "for i in range(0,len(Ncharges)):\n",
    "    plt.semilogx(Wi,xSS[i],\"-o\",label = \"fq = %g\" %(Ncharges[i]/N) )\n",
    "    plt.legend()\n",
    "    plt.ylim(0.0,1.05)\n",
    "    plt.ylabel('$<x>ss/L$')\n",
    "    plt.xlabel('$Wi$')\n"
   ]
  },
  {
   "cell_type": "code",
   "execution_count": 23,
   "metadata": {},
   "outputs": [],
   "source": [
    "import csv\n",
    "y = [\"Wi\",\"fq=0.0\",\"STD_Err\"]\n",
    "with open('ext_chrg_it'+str(it)+\".csv\",mode='w') as practice_file:\n",
    "    practice = csv.writer(practice_file,delimiter=',')\n",
    "    practice.writerow(y)\n",
    "    for i in range(0,len(xSS[0])):\n",
    "        x = [Wi[i], xSS[0][i],xSSer[0][i]]\n",
    "        practice.writerow(x)"
   ]
  },
  {
   "cell_type": "code",
   "execution_count": 20,
   "metadata": {},
   "outputs": [],
   "source": [
    "import csv\n",
    "y = [\"Wi\",\"fq=0.0\",\"STD_Err\",\"fq=0.25\",\"STD_Err\",\"fq=0.75\",\"STD_Err\"]\n",
    "with open('ext_chrg_it'+str(it)+\".csv\",mode='w') as practice_file:\n",
    "    practice = csv.writer(practice_file,delimiter=',')\n",
    "    practice.writerow(y)\n",
    "    for i in range(0,len(xSS[0])):\n",
    "        x = [Wi[i], xSS[0][i],xSSer[0][i],xSS[1][i],xSSer[1][i],xSS[2][i],xSSer[2][i]]\n",
    "        practice.writerow(x)"
   ]
  },
  {
   "cell_type": "code",
   "execution_count": 29,
   "metadata": {},
   "outputs": [],
   "source": [
    "x"
   ]
  },
  {
   "cell_type": "code",
   "execution_count": 35,
   "metadata": {},
   "outputs": [
    {
     "data": {
      "text/plain": [
       "20728"
      ]
     },
     "execution_count": 35,
     "metadata": {},
     "output_type": "execute_result"
    }
   ],
   "source": [
    "len(timelist[0])"
   ]
  },
  {
   "cell_type": "code",
   "execution_count": 39,
   "metadata": {},
   "outputs": [
    {
     "data": {
      "text/plain": [
       "array([0.0000e+00, 1.0000e+03, 2.0000e+03, ..., 3.4997e+07, 3.4998e+07,\n",
       "       3.4999e+07])"
      ]
     },
     "execution_count": 39,
     "metadata": {},
     "output_type": "execute_result"
    }
   ],
   "source": [
    "time"
   ]
  },
  {
   "cell_type": "code",
   "execution_count": null,
   "metadata": {},
   "outputs": [],
   "source": []
  }
 ],
 "metadata": {
  "kernelspec": {
   "display_name": "Python 3",
   "language": "python",
   "name": "python3"
  },
  "language_info": {
   "codemirror_mode": {
    "name": "ipython",
    "version": 3
   },
   "file_extension": ".py",
   "mimetype": "text/x-python",
   "name": "python",
   "nbconvert_exporter": "python",
   "pygments_lexer": "ipython3",
   "version": "3.8.3"
  }
 },
 "nbformat": 4,
 "nbformat_minor": 4
}
